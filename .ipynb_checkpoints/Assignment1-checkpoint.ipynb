{
 "cells": [
  {
   "cell_type": "markdown",
   "id": "5538ee8f-93d7-4b6c-98fa-833a9462fd19",
   "metadata": {},
   "source": [
    "Create a list of your favorite movies and print it. Then, append a new movie to the list and\r\n",
    "print the updated list."
   ]
  },
  {
   "cell_type": "code",
   "execution_count": 1,
   "id": "545380c7-40c8-45c7-a935-3287e73bfa35",
   "metadata": {},
   "outputs": [
    {
     "data": {
      "text/plain": [
       "['Dune 2', 'Kung Fu Panda 4', 'War', 'Puspa']"
      ]
     },
     "execution_count": 1,
     "metadata": {},
     "output_type": "execute_result"
    }
   ],
   "source": [
    "fav_movies=['Dune 2','Kung Fu Panda 4','War','Puspa']\n",
    "fav_movies"
   ]
  },
  {
   "cell_type": "code",
   "execution_count": 3,
   "id": "d2c30ca4-0ab0-480e-af95-e8eff43f2603",
   "metadata": {},
   "outputs": [
    {
     "data": {
      "text/plain": [
       "['Dune 2', 'Kung Fu Panda 4', 'War', 'Puspa', 'Ghostbusters', 'Ghostbusters']"
      ]
     },
     "execution_count": 3,
     "metadata": {},
     "output_type": "execute_result"
    }
   ],
   "source": [
    "fav_movies.append('Ghostbusters')\n",
    "fav_movies"
   ]
  },
  {
   "cell_type": "markdown",
   "id": "d301dccd-ad90-4015-b46a-cb5ec0988651",
   "metadata": {},
   "source": [
    "Create a list of integers from 1 to 10 and print it. Calculate the sum of all the numbers in\r\n",
    "the list and print the result."
   ]
  },
  {
   "cell_type": "code",
   "execution_count": 6,
   "id": "8a8bfe1c-9579-485d-9ed8-961d6c0d8da2",
   "metadata": {},
   "outputs": [
    {
     "data": {
      "text/plain": [
       "[1, 2, 3, 4, 5, 6, 7, 8, 9, 10]"
      ]
     },
     "execution_count": 6,
     "metadata": {},
     "output_type": "execute_result"
    }
   ],
   "source": [
    "numbers = list(range(1,11))\n",
    "numbers\n"
   ]
  },
  {
   "cell_type": "code",
   "execution_count": 23,
   "id": "eb884f74-14ab-4c2f-989e-852285e15eb6",
   "metadata": {},
   "outputs": [
    {
     "name": "stdout",
     "output_type": "stream",
     "text": [
      "Sum of all number is:  55\n"
     ]
    }
   ],
   "source": [
    "result = 0\n",
    "for num in numbers:\n",
    "    result+=num\n",
    "print(\"Sum of all number is: \", result)\n"
   ]
  },
  {
   "cell_type": "code",
   "execution_count": null,
   "id": "91ba6809-f6bc-4347-aecb-f833aae96b03",
   "metadata": {},
   "outputs": [],
   "source": []
  },
  {
   "cell_type": "code",
   "execution_count": null,
   "id": "88753d36-2c7e-4afe-9f36-5979db9028cd",
   "metadata": {},
   "outputs": [],
   "source": []
  }
 ],
 "metadata": {
  "kernelspec": {
   "display_name": "Python 3 (ipykernel)",
   "language": "python",
   "name": "python3"
  },
  "language_info": {
   "codemirror_mode": {
    "name": "ipython",
    "version": 3
   },
   "file_extension": ".py",
   "mimetype": "text/x-python",
   "name": "python",
   "nbconvert_exporter": "python",
   "pygments_lexer": "ipython3",
   "version": "3.11.7"
  }
 },
 "nbformat": 4,
 "nbformat_minor": 5
}
