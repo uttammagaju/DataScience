{
 "cells": [
  {
   "cell_type": "markdown",
   "id": "5538ee8f-93d7-4b6c-98fa-833a9462fd19",
   "metadata": {},
   "source": [
    "Create a list of your favorite movies and print it. Then, append a new movie to the list and\r\n",
    "print the updated list."
   ]
  },
  {
   "cell_type": "code",
   "execution_count": 1,
   "id": "545380c7-40c8-45c7-a935-3287e73bfa35",
   "metadata": {},
   "outputs": [
    {
     "data": {
      "text/plain": [
       "['Dune 2', 'Kung Fu Panda 4', 'War', 'Puspa']"
      ]
     },
     "execution_count": 1,
     "metadata": {},
     "output_type": "execute_result"
    }
   ],
   "source": [
    "fav_movies=['Dune 2','Kung Fu Panda 4','War','Puspa']\n",
    "fav_movies"
   ]
  },
  {
   "cell_type": "code",
   "execution_count": 3,
   "id": "d2c30ca4-0ab0-480e-af95-e8eff43f2603",
   "metadata": {},
   "outputs": [
    {
     "data": {
      "text/plain": [
       "['Dune 2', 'Kung Fu Panda 4', 'War', 'Puspa', 'Ghostbusters', 'Ghostbusters']"
      ]
     },
     "execution_count": 3,
     "metadata": {},
     "output_type": "execute_result"
    }
   ],
   "source": [
    "fav_movies.append('Ghostbusters')\n",
    "fav_movies"
   ]
  },
  {
   "cell_type": "markdown",
   "id": "d301dccd-ad90-4015-b46a-cb5ec0988651",
   "metadata": {},
   "source": [
    "Create a list of integers from 1 to 10 and print it. Calculate the sum of all the numbers in\r\n",
    "the list and print the result."
   ]
  },
  {
   "cell_type": "code",
   "execution_count": 6,
   "id": "8a8bfe1c-9579-485d-9ed8-961d6c0d8da2",
   "metadata": {},
   "outputs": [
    {
     "data": {
      "text/plain": [
       "[1, 2, 3, 4, 5, 6, 7, 8, 9, 10]"
      ]
     },
     "execution_count": 6,
     "metadata": {},
     "output_type": "execute_result"
    }
   ],
   "source": [
    "numbers = list(range(1,11))\n",
    "numbers\n"
   ]
  },
  {
   "cell_type": "code",
   "execution_count": 23,
   "id": "eb884f74-14ab-4c2f-989e-852285e15eb6",
   "metadata": {},
   "outputs": [
    {
     "name": "stdout",
     "output_type": "stream",
     "text": [
      "Sum of all number is:  55\n"
     ]
    }
   ],
   "source": [
    "result = 0\n",
    "for num in numbers:\n",
    "    result+=num\n",
    "print(\"Sum of all number is: \", result)\n"
   ]
  },
  {
   "cell_type": "markdown",
   "id": "c09a2638-34e2-4995-bbf3-c920254ae935",
   "metadata": {},
   "source": [
    "Create a list of mixed data types including strings, integers, and floats and print it. Remove\r\n",
    "the first element from the list and print the modified list."
   ]
  },
  {
   "cell_type": "code",
   "execution_count": 32,
   "id": "88753d36-2c7e-4afe-9f36-5979db9028cd",
   "metadata": {},
   "outputs": [
    {
     "data": {
      "text/plain": [
       "[1, 2, 3, 'uttam', 'hello', 4.0, 5.0]"
      ]
     },
     "execution_count": 32,
     "metadata": {},
     "output_type": "execute_result"
    }
   ],
   "source": [
    "mix_data = [ 1,2,3,'uttam','hello',4.0,5.0]\n",
    "mix_data\n"
   ]
  },
  {
   "cell_type": "code",
   "execution_count": 33,
   "id": "53161f16-b6a0-4ab4-8f72-5d19c6e11fcc",
   "metadata": {},
   "outputs": [
    {
     "data": {
      "text/plain": [
       "[2, 3, 'uttam', 'hello', 4.0, 5.0]"
      ]
     },
     "execution_count": 33,
     "metadata": {},
     "output_type": "execute_result"
    }
   ],
   "source": [
    "len(mix_data)\n",
    "remove = mix_data.pop(0)\n",
    "remove\n",
    "mix_data"
   ]
  },
  {
   "cell_type": "markdown",
   "id": "91bbc5c3-8562-4439-8956-5f4c5334676f",
   "metadata": {},
   "source": [
    "Create a tuple containing the names of the days of the week and print it. Access and print\r\n",
    "the name of the third day."
   ]
  },
  {
   "cell_type": "markdown",
   "id": "e0e173fc-f76e-479c-8e2d-9649cc6a8bd6",
   "metadata": {},
   "source": [
    "days_in_weeks = ('sunday','monday','tuesday','wednesday','thrusday','friday','saturday');\n",
    "days_in_weeks"
   ]
  },
  {
   "cell_type": "code",
   "execution_count": 35,
   "id": "6d856841-0498-4050-a9ba-82ac6c96810d",
   "metadata": {},
   "outputs": [
    {
     "data": {
      "text/plain": [
       "'tuesday'"
      ]
     },
     "execution_count": 35,
     "metadata": {},
     "output_type": "execute_result"
    }
   ],
   "source": [
    "days_in_weeks[2]"
   ]
  },
  {
   "cell_type": "markdown",
   "id": "c896139c-8d39-4099-8a8a-e50bd49d9403",
   "metadata": {},
   "source": [
    "Create a tuple of your favorite colors and print it. Check if a certain color is present in the\n",
    "tuple and print the result."
   ]
  },
  {
   "cell_type": "code",
   "execution_count": 37,
   "id": "ac1d7fca-57bf-4845-b87e-2ccbe008a332",
   "metadata": {},
   "outputs": [
    {
     "data": {
      "text/plain": [
       "('White', 'Black', 'Navy Blue', 'Desert Sand')"
      ]
     },
     "execution_count": 37,
     "metadata": {},
     "output_type": "execute_result"
    }
   ],
   "source": [
    "color = ('White','Black','Navy Blue','Desert Sand')\n",
    "color"
   ]
  },
  {
   "cell_type": "code",
   "execution_count": 40,
   "id": "77b69c62-b056-4f85-91ec-f9a6ceff594b",
   "metadata": {},
   "outputs": [
    {
     "name": "stdout",
     "output_type": "stream",
     "text": [
      "yes it exist\n"
     ]
    }
   ],
   "source": [
    "if 'White' in color:\n",
    "    print(\"yes it exist\")\n",
    "else:\n",
    "    print(\"not exist\")"
   ]
  },
  {
   "cell_type": "markdown",
   "id": "1c51c8ca-307f-4d95-b47b-143fe5be392f",
   "metadata": {},
   "source": [
    "Create a dictionary representing the information of a book with keys \"title\", \"author\", and\n",
    "\"year\" and print it. Update the year of the book and print the updated dictionary."
   ]
  },
  {
   "cell_type": "code",
   "execution_count": 42,
   "id": "9170ac11-9f07-4ef9-a411-1f4d7ab6654b",
   "metadata": {},
   "outputs": [
    {
     "data": {
      "text/plain": [
       "{'title': 'The monk who sold his ferrari',\n",
       " 'author': 'Robin Sharma',\n",
       " 'year': 2010}"
      ]
     },
     "execution_count": 42,
     "metadata": {},
     "output_type": "execute_result"
    }
   ],
   "source": [
    "book = { 'title' : 'The monk who sold his ferrari','author':'Robin Sharma','year':2010}\n",
    "book"
   ]
  },
  {
   "cell_type": "code",
   "execution_count": 43,
   "id": "f820f217-ec16-4ef4-92e4-9a21d226002a",
   "metadata": {},
   "outputs": [
    {
     "data": {
      "text/plain": [
       "{'title': 'The monk who sold his ferrari',\n",
       " 'author': 'Robin Sharma',\n",
       " 'year': 1999}"
      ]
     },
     "execution_count": 43,
     "metadata": {},
     "output_type": "execute_result"
    }
   ],
   "source": [
    "book['year'] = 1999\n",
    "book"
   ]
  },
  {
   "cell_type": "markdown",
   "id": "7b935023-526e-4649-b75e-2fb1b2993d63",
   "metadata": {},
   "source": [
    "Create a dictionary containing the names of fruits as keys and their corresponding colors\r\n",
    "as values and print it. Add a new fruit-color pair to the dictionary and print the updated\r\n",
    "dictionary."
   ]
  },
  {
   "cell_type": "code",
   "execution_count": 50,
   "id": "b7ded24b-976c-44c0-bd3f-405b91a912db",
   "metadata": {},
   "outputs": [
    {
     "data": {
      "text/plain": [
       "{'red': 'apple', 'green': 'watermelon', 'orange': 'orange', 'yellow': 'banana'}"
      ]
     },
     "execution_count": 50,
     "metadata": {},
     "output_type": "execute_result"
    }
   ],
   "source": [
    "fruit_with_color ={'red':'apple','green':'watermelon','orange':'orange','yellow':'banana'}\n",
    "fruit_with_color"
   ]
  },
  {
   "cell_type": "code",
   "execution_count": 51,
   "id": "4e82d54c-ddfe-438e-a7b7-634010dbb5dd",
   "metadata": {},
   "outputs": [
    {
     "data": {
      "text/plain": [
       "{'red': 'apple',\n",
       " 'green': 'watermelon',\n",
       " 'orange': 'orange',\n",
       " 'yellow': 'banana',\n",
       " 'brownish': 'kiwi'}"
      ]
     },
     "execution_count": 51,
     "metadata": {},
     "output_type": "execute_result"
    }
   ],
   "source": [
    "fruit_with_color['brownish'] = 'kiwi'\n",
    "fruit_with_color"
   ]
  },
  {
   "cell_type": "markdown",
   "id": "9a0d150b-485e-48f7-80ba-8c7c1044edcd",
   "metadata": {},
   "source": [
    "Create a dictionary representing the population of different cities with keys as city names\r\n",
    "and values as population numbers and print it. Remove a city from the dictionary and print\r\n",
    "the modified dictionary."
   ]
  },
  {
   "cell_type": "code",
   "execution_count": 53,
   "id": "72c762fa-9655-4a47-8564-b99940d1ce4a",
   "metadata": {},
   "outputs": [
    {
     "data": {
      "text/plain": [
       "{'bhaktapur': 300000, 'patan': 500000, 'lalitpur': 99999, 'kavra': 1000000}"
      ]
     },
     "execution_count": 53,
     "metadata": {},
     "output_type": "execute_result"
    }
   ],
   "source": [
    "population = { 'bhaktapur' : 300000,'patan':500000,'lalitpur':99999,'kavra':1000000}\n",
    "population"
   ]
  },
  {
   "cell_type": "code",
   "execution_count": 54,
   "id": "212a665c-f27e-4a6d-a665-770564dc9caa",
   "metadata": {},
   "outputs": [
    {
     "data": {
      "text/plain": [
       "{'patan': 500000, 'lalitpur': 99999, 'kavra': 1000000}"
      ]
     },
     "execution_count": 54,
     "metadata": {},
     "output_type": "execute_result"
    }
   ],
   "source": [
    "population.pop('bhaktapur')\n",
    "population"
   ]
  },
  {
   "cell_type": "code",
   "execution_count": null,
   "id": "28cc92de-daeb-4a5e-b5cd-a0bb67e54d35",
   "metadata": {},
   "outputs": [],
   "source": []
  }
 ],
 "metadata": {
  "kernelspec": {
   "display_name": "Python 3 (ipykernel)",
   "language": "python",
   "name": "python3"
  },
  "language_info": {
   "codemirror_mode": {
    "name": "ipython",
    "version": 3
   },
   "file_extension": ".py",
   "mimetype": "text/x-python",
   "name": "python",
   "nbconvert_exporter": "python",
   "pygments_lexer": "ipython3",
   "version": "3.11.7"
  }
 },
 "nbformat": 4,
 "nbformat_minor": 5
}
